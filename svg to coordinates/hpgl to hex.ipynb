{
 "cells": [
  {
   "cell_type": "markdown",
   "metadata": {},
   "source": [
    "## SVG -> HPGL\n",
    "using inkscape\n",
    "- document size 1x1 inch\n",
    "- hpgl resolution 4096x4096 dpi\n",
    "\n",
    "## HPGL -> path\n",
    "using this python script create three arrays with x,y-coordinates and boolean values if pen/laser is on"
   ]
  },
  {
   "cell_type": "code",
   "execution_count": 1,
   "metadata": {},
   "outputs": [],
   "source": [
    "%reset -f\n",
    "import numpy as np\n",
    "import matplotlib.pyplot as plt\n",
    "import csv"
   ]
  },
  {
   "cell_type": "markdown",
   "metadata": {},
   "source": [
    "## print data"
   ]
  },
  {
   "cell_type": "code",
   "execution_count": 2,
   "metadata": {
    "scrolled": true
   },
   "outputs": [
    {
     "name": "stdout",
     "output_type": "stream",
     "text": [
      "IN \n",
      "\n",
      "PU \n",
      "\n",
      "SP1 \n",
      "\n",
      "PU2243,1300 \n",
      "\n",
      "PD1659,777,1760,0,1082,393,374,57,538,824,0,1393,780,1474,1155,2162,1473,1445,2243,1300 \n",
      "\n",
      "PU3977,3105 \n",
      "\n",
      "PD3958,2923,3903,2755,3816,2602,3700,2469,3560,2359,3400,2276,3222,2223,3032,2205,2847,2223,2670,2274,2507,2356,2363,2469,2245,2606,2158,2760,2105,2928,2087,3105,2105,3281,2158,3449,2245,3604,2363,3741,2507,3853,2670,3936,2847,3987,3032,4004,3217,3987,3394,3936,3556,3853,3700,3741,3818,3604,3905,3449,3959,3281,3977,3105 \n",
      "\n",
      "PU1015,2356 \n",
      "\n",
      "PD28,2689,40,3731,1034,4041,1637,3191,1015,2356 \n",
      "\n",
      "PU3246,1370 \n",
      "\n",
      "PD3403,1437,3549,1478,3680,1492,3794,1482,3889,1449,3961,1395,4008,1323,4027,1233,4015,1127,3969,1008,3887,876,3765,733,3602,582,3393,424,3136,261,2829,93,2683,400,2576,674,2504,916,2464,1126,2452,1305,2466,1453,2501,1571,2555,1660,2624,1719,2704,1751,2793,1754,2887,1730,2983,1679,3077,1601,3166,1498,3246,1370 \n",
      "\n",
      "SP0 \n",
      "\n",
      "PU0,0 \n",
      "\n",
      "IN \n",
      "\n",
      "  \n",
      "\n"
     ]
    }
   ],
   "source": [
    "with open('graphic.hpgl') as csv_file:\n",
    "    csv_reader = csv.reader(csv_file, delimiter=';')\n",
    "    for parsed in csv_reader:\n",
    "        for line in parsed:\n",
    "            print(line,'\\n')"
   ]
  },
  {
   "cell_type": "markdown",
   "metadata": {},
   "source": [
    "## convert"
   ]
  },
  {
   "cell_type": "code",
   "execution_count": 3,
   "metadata": {
    "scrolled": true
   },
   "outputs": [],
   "source": [
    "x = []\n",
    "y = []\n",
    "p = []\n",
    "\n",
    "with open('graphic.hpgl') as csv_file:\n",
    "    csv_reader = csv.reader(csv_file, delimiter=';')\n",
    "    for parsed in csv_reader:\n",
    "        for line in parsed:\n",
    "            if line[0]=='P' and len(line)>2:\n",
    "                pen = '0'\n",
    "                if line[1]=='D':\n",
    "                    pen = '1'\n",
    "                val = line[2:].split(',')[::-1]\n",
    "                while val:\n",
    "                    x.append(str(4095-int(val.pop())))\n",
    "                    y.append((val.pop()))\n",
    "                    p.append((pen))"
   ]
  },
  {
   "cell_type": "code",
   "execution_count": 4,
   "metadata": {},
   "outputs": [],
   "source": [
    "f = open('graphic.c','w')\n",
    "f.write('#include <avr/pgmspace.h>\\n')\n",
    "f.write('#define ARR_LENGTH ')\n",
    "f.write(str(len(p)))\n",
    "f.write('\\n')\n",
    "f.write('const bool pen[] = {')\n",
    "for e in p:\n",
    "    f.write(e+',')\n",
    "f.write('};\\n')\n",
    "f.write('const uint16_t xval[] PROGMEM = {')\n",
    "for e in x:\n",
    "    f.write(e+',')\n",
    "f.write('};\\n')\n",
    "f.write('const uint16_t yval[] PROGMEM = {')\n",
    "for e in y:\n",
    "    f.write(e+',')\n",
    "f.write('};\\n')\n",
    "f.close()"
   ]
  },
  {
   "cell_type": "code",
   "execution_count": 5,
   "metadata": {},
   "outputs": [
    {
     "name": "stdout",
     "output_type": "stream",
     "text": [
      "number of vertices:  84\n"
     ]
    }
   ],
   "source": [
    "print(\"number of vertices: \",len(x))"
   ]
  },
  {
   "cell_type": "code",
   "execution_count": null,
   "metadata": {},
   "outputs": [],
   "source": []
  }
 ],
 "metadata": {
  "kernelspec": {
   "display_name": "Python 3",
   "language": "python",
   "name": "python3"
  },
  "language_info": {
   "codemirror_mode": {
    "name": "ipython",
    "version": 3
   },
   "file_extension": ".py",
   "mimetype": "text/x-python",
   "name": "python",
   "nbconvert_exporter": "python",
   "pygments_lexer": "ipython3",
   "version": "3.9.0"
  }
 },
 "nbformat": 4,
 "nbformat_minor": 4
}
